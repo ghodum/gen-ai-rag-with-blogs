{
 "cells": [
  {
   "cell_type": "code",
   "execution_count": 14,
   "metadata": {},
   "outputs": [
    {
     "data": {
      "text/plain": [
       "True"
      ]
     },
     "execution_count": 14,
     "metadata": {},
     "output_type": "execute_result"
    }
   ],
   "source": [
    "# loads the environment variables for this project\n",
    "from dotenv import load_dotenv\n",
    "load_dotenv()"
   ]
  },
  {
   "cell_type": "code",
   "execution_count": 15,
   "metadata": {},
   "outputs": [
    {
     "name": "stdout",
     "output_type": "stream",
     "text": [
      "Started /Users/ghodum/.cache/weaviate-embedded: process ID 2464\n"
     ]
    },
    {
     "name": "stderr",
     "output_type": "stream",
     "text": [
      "{\"action\":\"startup\",\"default_vectorizer_module\":\"none\",\"level\":\"info\",\"msg\":\"the default vectorizer modules is set to \\\"none\\\", as a result all new schema classes without an explicit vectorizer setting, will use this vectorizer\",\"time\":\"2024-06-10T12:16:21-04:00\"}\n",
      "{\"action\":\"startup\",\"auto_schema_enabled\":true,\"level\":\"info\",\"msg\":\"auto schema enabled setting is set to \\\"true\\\"\",\"time\":\"2024-06-10T12:16:21-04:00\"}\n",
      "{\"level\":\"info\",\"msg\":\"No resource limits set, weaviate will use all available memory and CPU. To limit resources, set LIMIT_RESOURCES=true\",\"time\":\"2024-06-10T12:16:21-04:00\"}\n",
      "{\"level\":\"warning\",\"msg\":\"Multiple vector spaces are present, GraphQL Explore and REST API list objects endpoint module include params has been disabled as a result.\",\"time\":\"2024-06-10T12:16:21-04:00\"}\n",
      "{\"action\":\"grpc_startup\",\"level\":\"info\",\"msg\":\"grpc server listening at [::]:50050\",\"time\":\"2024-06-10T12:16:21-04:00\"}\n",
      "{\"action\":\"restapi_management\",\"level\":\"info\",\"msg\":\"Serving weaviate at http://127.0.0.1:8079\",\"time\":\"2024-06-10T12:16:21-04:00\"}\n"
     ]
    },
    {
     "name": "stderr",
     "output_type": "stream",
     "text": [
      "{\"action\":\"lsm_recover_from_active_wal\",\"class\":\"BlogArticleChunks\",\"index\":\"blogarticlechunks\",\"level\":\"warning\",\"msg\":\"active write-ahead-log found. Did weaviate crash prior to this? Trying to recover...\",\"path\":\"/Users/ghodum/.local/share/weaviate/blogarticlechunks/VZb9CMJQDdQO/lsm/objects/segment-1718030953785184000.wal\",\"shard\":\"VZb9CMJQDdQO\",\"time\":\"2024-06-10T12:16:22-04:00\"}\n",
      "{\"action\":\"lsm_recover_from_active_wal\",\"class\":\"BlogArticles\",\"index\":\"blogarticles\",\"level\":\"warning\",\"msg\":\"active write-ahead-log found. Did weaviate crash prior to this? Trying to recover...\",\"path\":\"/Users/ghodum/.local/share/weaviate/blogarticles/skmc3QErGi6e/lsm/objects/segment-1718030635095733000.wal\",\"shard\":\"skmc3QErGi6e\",\"time\":\"2024-06-10T12:16:22-04:00\"}\n",
      "{\"action\":\"lsm_recover_from_active_wal_success\",\"class\":\"BlogArticleChunks\",\"index\":\"blogarticlechunks\",\"level\":\"info\",\"msg\":\"successfully recovered from write-ahead-log\",\"path\":\"/Users/ghodum/.local/share/weaviate/blogarticlechunks/VZb9CMJQDdQO/lsm/objects/segment-1718030953785184000.wal\",\"shard\":\"VZb9CMJQDdQO\",\"time\":\"2024-06-10T12:16:22-04:00\"}\n",
      "{\"action\":\"lsm_recover_from_active_wal_success\",\"class\":\"BlogArticles\",\"index\":\"blogarticles\",\"level\":\"info\",\"msg\":\"successfully recovered from write-ahead-log\",\"path\":\"/Users/ghodum/.local/share/weaviate/blogarticles/skmc3QErGi6e/lsm/objects/segment-1718030635095733000.wal\",\"shard\":\"skmc3QErGi6e\",\"time\":\"2024-06-10T12:16:22-04:00\"}\n",
      "{\"action\":\"lsm_recover_from_active_wal\",\"class\":\"BlogArticleChunks\",\"index\":\"blogarticlechunks\",\"level\":\"warning\",\"msg\":\"active write-ahead-log found. Did weaviate crash prior to this? Trying to recover...\",\"path\":\"/Users/ghodum/.local/share/weaviate/blogarticlechunks/VZb9CMJQDdQO/lsm/property__id/segment-1718030953789315000.wal\",\"shard\":\"VZb9CMJQDdQO\",\"time\":\"2024-06-10T12:16:22-04:00\"}\n",
      "{\"action\":\"lsm_recover_from_active_wal\",\"class\":\"BlogArticles\",\"index\":\"blogarticles\",\"level\":\"warning\",\"msg\":\"active write-ahead-log found. Did weaviate crash prior to this? Trying to recover...\",\"path\":\"/Users/ghodum/.local/share/weaviate/blogarticles/skmc3QErGi6e/lsm/property__id/segment-1718030635096649000.wal\",\"shard\":\"skmc3QErGi6e\",\"time\":\"2024-06-10T12:16:22-04:00\"}\n",
      "{\"action\":\"lsm_recover_from_active_wal\",\"class\":\"BlogArticles\",\"index\":\"blogarticles\",\"level\":\"warning\",\"msg\":\"active write-ahead-log found. Did weaviate crash prior to this? Trying to recover...\",\"path\":\"/Users/ghodum/.local/share/weaviate/blogarticles/skmc3QErGi6e/lsm/property_filename/segment-1718030635096686000.wal\",\"shard\":\"skmc3QErGi6e\",\"time\":\"2024-06-10T12:16:22-04:00\"}\n",
      "{\"action\":\"lsm_recover_from_active_wal_success\",\"class\":\"BlogArticleChunks\",\"index\":\"blogarticlechunks\",\"level\":\"info\",\"msg\":\"successfully recovered from write-ahead-log\",\"path\":\"/Users/ghodum/.local/share/weaviate/blogarticlechunks/VZb9CMJQDdQO/lsm/property__id/segment-1718030953789315000.wal\",\"shard\":\"VZb9CMJQDdQO\",\"time\":\"2024-06-10T12:16:22-04:00\"}\n",
      "{\"action\":\"lsm_recover_from_active_wal_success\",\"class\":\"BlogArticles\",\"index\":\"blogarticles\",\"level\":\"info\",\"msg\":\"successfully recovered from write-ahead-log\",\"path\":\"/Users/ghodum/.local/share/weaviate/blogarticles/skmc3QErGi6e/lsm/property_filename/segment-1718030635096686000.wal\",\"shard\":\"skmc3QErGi6e\",\"time\":\"2024-06-10T12:16:22-04:00\"}\n",
      "{\"action\":\"lsm_recover_from_active_wal_success\",\"class\":\"BlogArticles\",\"index\":\"blogarticles\",\"level\":\"info\",\"msg\":\"successfully recovered from write-ahead-log\",\"path\":\"/Users/ghodum/.local/share/weaviate/blogarticles/skmc3QErGi6e/lsm/property__id/segment-1718030635096649000.wal\",\"shard\":\"skmc3QErGi6e\",\"time\":\"2024-06-10T12:16:22-04:00\"}\n",
      "{\"action\":\"lsm_recover_from_active_wal\",\"class\":\"BlogArticleChunks\",\"index\":\"blogarticlechunks\",\"level\":\"warning\",\"msg\":\"active write-ahead-log found. Did weaviate crash prior to this? Trying to recover...\",\"path\":\"/Users/ghodum/.local/share/weaviate/blogarticlechunks/VZb9CMJQDdQO/lsm/property_chunk_index/segment-1718030953790886000.wal\",\"shard\":\"VZb9CMJQDdQO\",\"time\":\"2024-06-10T12:16:22-04:00\"}\n",
      "{\"action\":\"lsm_recover_from_active_wal\",\"class\":\"BlogArticleChunks\",\"index\":\"blogarticlechunks\",\"level\":\"warning\",\"msg\":\"active write-ahead-log found. Did weaviate crash prior to this? Trying to recover...\",\"path\":\"/Users/ghodum/.local/share/weaviate/blogarticlechunks/VZb9CMJQDdQO/lsm/property_filename/segment-1718030953792427000.wal\",\"shard\":\"VZb9CMJQDdQO\",\"time\":\"2024-06-10T12:16:22-04:00\"}\n",
      "{\"action\":\"lsm_recover_from_active_wal_success\",\"class\":\"BlogArticleChunks\",\"index\":\"blogarticlechunks\",\"level\":\"info\",\"msg\":\"successfully recovered from write-ahead-log\",\"path\":\"/Users/ghodum/.local/share/weaviate/blogarticlechunks/VZb9CMJQDdQO/lsm/property_chunk_index/segment-1718030953790886000.wal\",\"shard\":\"VZb9CMJQDdQO\",\"time\":\"2024-06-10T12:16:22-04:00\"}\n",
      "{\"action\":\"lsm_recover_from_active_wal_success\",\"class\":\"BlogArticleChunks\",\"index\":\"blogarticlechunks\",\"level\":\"info\",\"msg\":\"successfully recovered from write-ahead-log\",\"path\":\"/Users/ghodum/.local/share/weaviate/blogarticlechunks/VZb9CMJQDdQO/lsm/property_filename/segment-1718030953792427000.wal\",\"shard\":\"VZb9CMJQDdQO\",\"time\":\"2024-06-10T12:16:22-04:00\"}\n",
      "{\"action\":\"lsm_recover_from_active_wal\",\"class\":\"BlogArticles\",\"index\":\"blogarticles\",\"level\":\"warning\",\"msg\":\"active write-ahead-log found. Did weaviate crash prior to this? Trying to recover...\",\"path\":\"/Users/ghodum/.local/share/weaviate/blogarticles/skmc3QErGi6e/lsm/property_content/segment-1718030635097386000.wal\",\"shard\":\"skmc3QErGi6e\",\"time\":\"2024-06-10T12:16:22-04:00\"}\n",
      "{\"action\":\"lsm_recover_from_active_wal\",\"class\":\"BlogArticleChunks\",\"index\":\"blogarticlechunks\",\"level\":\"warning\",\"msg\":\"active write-ahead-log found. Did weaviate crash prior to this? Trying to recover...\",\"path\":\"/Users/ghodum/.local/share/weaviate/blogarticlechunks/VZb9CMJQDdQO/lsm/property_chunk/segment-1718030953794043000.wal\",\"shard\":\"VZb9CMJQDdQO\",\"time\":\"2024-06-10T12:16:22-04:00\"}\n",
      "{\"action\":\"lsm_recover_from_active_wal_success\",\"class\":\"BlogArticles\",\"index\":\"blogarticles\",\"level\":\"info\",\"msg\":\"successfully recovered from write-ahead-log\",\"path\":\"/Users/ghodum/.local/share/weaviate/blogarticles/skmc3QErGi6e/lsm/property_content/segment-1718030635097386000.wal\",\"shard\":\"skmc3QErGi6e\",\"time\":\"2024-06-10T12:16:22-04:00\"}\n",
      "{\"action\":\"lsm_recover_from_active_wal_success\",\"class\":\"BlogArticleChunks\",\"index\":\"blogarticlechunks\",\"level\":\"info\",\"msg\":\"successfully recovered from write-ahead-log\",\"path\":\"/Users/ghodum/.local/share/weaviate/blogarticlechunks/VZb9CMJQDdQO/lsm/property_chunk/segment-1718030953794043000.wal\",\"shard\":\"VZb9CMJQDdQO\",\"time\":\"2024-06-10T12:16:22-04:00\"}\n",
      "{\"action\":\"lsm_recover_from_active_wal\",\"class\":\"BlogArticles\",\"index\":\"blogarticles\",\"level\":\"warning\",\"msg\":\"active write-ahead-log found. Did weaviate crash prior to this? Trying to recover...\",\"path\":\"/Users/ghodum/.local/share/weaviate/blogarticles/skmc3QErGi6e/lsm/property_filename_searchable/segment-1718030635097279000.wal\",\"shard\":\"skmc3QErGi6e\",\"time\":\"2024-06-10T12:16:22-04:00\"}\n",
      "{\"action\":\"lsm_recover_from_active_wal_success\",\"class\":\"BlogArticles\",\"index\":\"blogarticles\",\"level\":\"info\",\"msg\":\"successfully recovered from write-ahead-log\",\"path\":\"/Users/ghodum/.local/share/weaviate/blogarticles/skmc3QErGi6e/lsm/property_filename_searchable/segment-1718030635097279000.wal\",\"shard\":\"skmc3QErGi6e\",\"time\":\"2024-06-10T12:16:22-04:00\"}\n",
      "{\"action\":\"lsm_recover_from_active_wal\",\"class\":\"BlogArticleChunks\",\"index\":\"blogarticlechunks\",\"level\":\"warning\",\"msg\":\"active write-ahead-log found. Did weaviate crash prior to this? Trying to recover...\",\"path\":\"/Users/ghodum/.local/share/weaviate/blogarticlechunks/VZb9CMJQDdQO/lsm/property_filename_searchable/segment-1718030953799532000.wal\",\"shard\":\"VZb9CMJQDdQO\",\"time\":\"2024-06-10T12:16:22-04:00\"}\n",
      "{\"action\":\"lsm_recover_from_active_wal_success\",\"class\":\"BlogArticleChunks\",\"index\":\"blogarticlechunks\",\"level\":\"info\",\"msg\":\"successfully recovered from write-ahead-log\",\"path\":\"/Users/ghodum/.local/share/weaviate/blogarticlechunks/VZb9CMJQDdQO/lsm/property_filename_searchable/segment-1718030953799532000.wal\",\"shard\":\"VZb9CMJQDdQO\",\"time\":\"2024-06-10T12:16:22-04:00\"}\n",
      "{\"action\":\"lsm_recover_from_active_wal\",\"class\":\"BlogArticleChunks\",\"index\":\"blogarticlechunks\",\"level\":\"warning\",\"msg\":\"active write-ahead-log found. Did weaviate crash prior to this? Trying to recover...\",\"path\":\"/Users/ghodum/.local/share/weaviate/blogarticlechunks/VZb9CMJQDdQO/lsm/property_chunk_searchable/segment-1718030953800715000.wal\",\"shard\":\"VZb9CMJQDdQO\",\"time\":\"2024-06-10T12:16:22-04:00\"}\n",
      "{\"action\":\"lsm_recover_from_active_wal\",\"class\":\"BlogArticles\",\"index\":\"blogarticles\",\"level\":\"warning\",\"msg\":\"active write-ahead-log found. Did weaviate crash prior to this? Trying to recover...\",\"path\":\"/Users/ghodum/.local/share/weaviate/blogarticles/skmc3QErGi6e/lsm/property_content_searchable/segment-1718030635098438000.wal\",\"shard\":\"skmc3QErGi6e\",\"time\":\"2024-06-10T12:16:22-04:00\"}\n",
      "{\"action\":\"lsm_recover_from_active_wal_success\",\"class\":\"BlogArticleChunks\",\"index\":\"blogarticlechunks\",\"level\":\"info\",\"msg\":\"successfully recovered from write-ahead-log\",\"path\":\"/Users/ghodum/.local/share/weaviate/blogarticlechunks/VZb9CMJQDdQO/lsm/property_chunk_searchable/segment-1718030953800715000.wal\",\"shard\":\"VZb9CMJQDdQO\",\"time\":\"2024-06-10T12:16:22-04:00\"}\n",
      "{\"action\":\"lsm_recover_from_active_wal_success\",\"class\":\"BlogArticles\",\"index\":\"blogarticles\",\"level\":\"info\",\"msg\":\"successfully recovered from write-ahead-log\",\"path\":\"/Users/ghodum/.local/share/weaviate/blogarticles/skmc3QErGi6e/lsm/property_content_searchable/segment-1718030635098438000.wal\",\"shard\":\"skmc3QErGi6e\",\"time\":\"2024-06-10T12:16:22-04:00\"}\n",
      "{\"level\":\"info\",\"msg\":\"Completed loading shard blogarticles_skmc3QErGi6e in 20.513986ms\",\"time\":\"2024-06-10T12:16:22-04:00\"}\n",
      "{\"level\":\"info\",\"msg\":\"Completed loading shard blogarticlechunks_VZb9CMJQDdQO in 21.045721ms\",\"time\":\"2024-06-10T12:16:22-04:00\"}\n",
      "{\"action\":\"hnsw_vector_cache_prefill\",\"count\":3000,\"index_id\":\"main\",\"level\":\"info\",\"limit\":1000000000000,\"msg\":\"prefilled vector cache\",\"time\":\"2024-06-10T12:16:22-04:00\",\"took\":16467949}\n",
      "{\"action\":\"hnsw_vector_cache_prefill\",\"count\":5000,\"index_id\":\"main\",\"level\":\"info\",\"limit\":1000000000000,\"msg\":\"prefilled vector cache\",\"time\":\"2024-06-10T12:16:22-04:00\",\"took\":136286260}\n"
     ]
    }
   ],
   "source": [
    "# install the Weaviate client\n",
    "# pip install -U weaviate-client\n",
    "\n",
    "import weaviate\n",
    "import os\n",
    "\n",
    "client = weaviate.connect_to_embedded(\n",
    "    headers={\n",
    "        \"X-OpenAI-Api-Key\": os.getenv(\"OPENAI_APIKEY\")  # Replace with your API key\n",
    "    }\n",
    ")"
   ]
  },
  {
   "cell_type": "code",
   "execution_count": 7,
   "metadata": {},
   "outputs": [],
   "source": [
    "# create a new collection to hold the vectors\n",
    "# each vector will be associated with a chunk of text from the blog article\n",
    "# we are using OpenAI here, but this can be changed to another AI API\n",
    "import weaviate.classes as wvc\n",
    "\n",
    "collection_name = \"BlogArticleChunks\"\n",
    "\n",
    "# If the collection already exists, delete it\n",
    "if client.collections.exists(collection_name): \n",
    "    client.collections.delete(collection_name)\n",
    "\n",
    "blog_article_chunks = client.collections.create(\n",
    "    name = collection_name,\n",
    "    properties = [\n",
    "        wvc.config.Property(\n",
    "            name = \"filename\",\n",
    "            data_type=wvc.config.DataType.TEXT\n",
    "        ),\n",
    "        wvc.config.Property(\n",
    "            name = \"chunk\",\n",
    "            data_type=wvc.config.DataType.TEXT\n",
    "        ),\n",
    "        wvc.config.Property(\n",
    "            name = \"chunk_index\",\n",
    "            data_type=wvc.config.DataType.INT\n",
    "        )\n",
    "    ],\n",
    "    vectorizer_config=wvc.config.Configure.Vectorizer.text2vec_openai(),  # If set to \"none\" you must always provide vectors yourself. Could be any other \"text2vec-*\" also.\n",
    "    generative_config=wvc.config.Configure.Generative.openai(\n",
    "        #model = \"gpt-4-turbo\",\n",
    "        temperature = 0.2, # 0 is deterministic, 1 is random\n",
    "    )  # Ensure the `generative-openai` module is used for generative queries\n",
    ")"
   ]
  },
  {
   "cell_type": "code",
   "execution_count": 8,
   "metadata": {},
   "outputs": [],
   "source": [
    "import os, glob, re\n",
    "from typing import List\n",
    "\n",
    "# chunks the text into smaller chunk_size pieces\n",
    "def chunk_text(text: str, chunk_size: int, overlap_size: int) -> List[str]:   \n",
    "    source_text = re.sub(r\"\\s+\", \" \", text)  # Remove multiple whitespaces\n",
    "    text_words = re.split(r\"\\s\", source_text)  # Split text by single whitespace\n",
    "\n",
    "    chunks = []\n",
    "    for i in range(0, len(text_words), chunk_size):  # Iterate through & chunk data\n",
    "        chunk = \" \".join(text_words[max(i - overlap_size, 0): i + chunk_size])  # Join a set of words into a string\n",
    "        chunks.append(chunk)\n",
    "    \n",
    "    return chunks\n",
    "\n",
    "def load_and_process_file(collection_name: str, file: str):\n",
    "    blog_article_chunks = client.collections.get(collection_name)\n",
    "\n",
    "    with open(blog_file, mode = \"r\") as file:\n",
    "        chunks_list = list()\n",
    "        blog_text = file.read().replace(\"\\n\", \" \")\n",
    "        chunked_text = chunk_text(blog_text, 150, 25)\n",
    "\n",
    "        for index, chunk in enumerate(chunked_text):\n",
    "            properties = {\n",
    "                \"filename\": os.path.basename(blog_file),\n",
    "                \"chunk\": chunk,\n",
    "                \"chunk_index\": index\n",
    "            }\n",
    "            chunks_list.append(properties)\n",
    "        blog_article_chunks.data.insert_many(chunks_list)"
   ]
  },
  {
   "cell_type": "code",
   "execution_count": 9,
   "metadata": {},
   "outputs": [
    {
     "name": "stdout",
     "output_type": "stream",
     "text": [
      "1180\n"
     ]
    }
   ],
   "source": [
    "# load all the blog files and process them as chunks\n",
    "blog_files = glob.glob(\"./blogs/*.txt\")\n",
    "\n",
    "for blog_file in blog_files:\n",
    "    load_and_process_file(collection_name, blog_file)\n",
    "\n",
    "# print out the total number of chunks in the collection\n",
    "response = blog_article_chunks.aggregate.over_all(total_count=True)\n",
    "print(response.total_count)"
   ]
  },
  {
   "cell_type": "code",
   "execution_count": 16,
   "metadata": {},
   "outputs": [],
   "source": [
    "# define the RAG method\n",
    "def rag_query(collection_name: str, question: str, group_task: str, max_results: int = 10):\n",
    "  chunks = client.collections.get(collection_name)\n",
    "  response = chunks.generate.near_text(\n",
    "      query = question,\n",
    "      limit = max_results,\n",
    "      grouped_task = group_task\n",
    "  )\n",
    "\n",
    "  print(response.generated)"
   ]
  },
  {
   "cell_type": "markdown",
   "metadata": {},
   "source": []
  },
  {
   "cell_type": "code",
   "execution_count": 17,
   "metadata": {},
   "outputs": [
    {
     "name": "stdout",
     "output_type": "stream",
     "text": [
      "- Solution Street is an information technology consultancy based in Northern Virginia\n",
      "- They help private, government, and non-profit organizations achieve their business goals through web applications\n",
      "- Employees are experts in J2EE, .NET, PHP, and Ruby on Rails technologies\n",
      "- They offer competitive salary, bonus, health/dental benefits, life insurance, PTO, 401(k), and a fun working environment\n",
      "- Solution Street sponsors NovaJug and partners with Capital Area Food Bank\n",
      "- They have been in business for 20 years and have made the Inc 5000 list for the third consecutive year\n",
      "- Solution Street is a Salesforce Cloud Alliance partner and offers career opportunities for developers in various technologies\n"
     ]
    }
   ],
   "source": [
    "rag_query(\n",
    "  collection_name, \n",
    "  \"What is Solution Street?\", \n",
    "  \"Summarize the key information here in bullet points\"\n",
    ")"
   ]
  },
  {
   "cell_type": "code",
   "execution_count": 45,
   "metadata": {},
   "outputs": [
    {
     "name": "stdout",
     "output_type": "stream",
     "text": [
      "1. What is Solution Street and what do they do?\n",
      "- Solution Street is an information technology consultancy based in Northern Virginia that helps private, government, and non-profit organizations achieve their business goals through the design and rapid deployment of web applications.\n",
      "\n",
      "2. What technologies do Solution Street employees specialize in?\n",
      "- Solution Street employees are experts in building large, highly scalable and well-performing web applications using J2EE, .NET, PHP, and Ruby on Rails technologies.\n",
      "\n",
      "3. What benefits does Solution Street offer to its employees?\n",
      "- Solution Street offers a relaxed, fun, flexible working environment with competitive salary, bonus, 100% paid health/dental, life insurance, 15 days PTO per year, long-term disability, and 401(k) contributions. They also provide snacks and drinks in the office and are located near restaurants and the W&OD Trail.\n",
      "\n",
      "4. How did Solution Street come up with its name?\n",
      "- The name \"Solution Street\" was inspired by the founder's background in math and growing up in a neighborhood where life revolved around the activities on the street.\n",
      "\n",
      "5. What significant events have marked Solution Street's history?\n",
      "- Solution Street was founded in 2002, has made the Inc 5000 list for three consecutive years, and celebrated its 15th year in business in 2017.\n",
      "\n",
      "6. How does Solution Street give back to the community?\n",
      "- Solution Street partners with charities like Capital Area Food Bank and hosts fundraising events to raise awareness and support organizations in need.\n",
      "\n",
      "7. What job opportunities are currently available at Solution Street?\n",
      "- Solution Street is looking for .NET developers, HTML/CSS/Javascript developers, Ruby on Rails/Javascript developers, and Java developers with specific experience and skills.\n"
     ]
    }
   ],
   "source": [
    "rag_query(\n",
    "  collection_name, \n",
    "  \"What is Solution Street?\", \n",
    "  \"Summarize the key information here into question and answer format\"\n",
    ")"
   ]
  },
  {
   "cell_type": "code",
   "execution_count": 46,
   "metadata": {},
   "outputs": [
    {
     "name": "stdout",
     "output_type": "stream",
     "text": [
      "- Joel Nylund has experience in entrepreneurship, consulting, and software engineering\n",
      "- He is a partner at Solution Street, where he has built custom software for customers\n",
      "- Joel emphasizes the importance of being an engineer, not just a coder\n",
      "- He values communication skills and being a good listener in software engineering\n",
      "- Joel highlights the significance of knowing and effectively using tools in software development\n",
      "- He stresses the importance of being nice, supportive, and holding teammates accountable in a team setting\n",
      "- Joel discusses the importance of collaboration and communication in software development projects\n",
      "- He shares insights on building a great technical staff, including providing the best equipment and promoting continuous learning\n",
      "- Joel reflects on the alignment of personal and professional values in his career at Solution Street\n"
     ]
    }
   ],
   "source": [
    "\n",
    "rag_query(\n",
    "  collection_name, \n",
    "  \"What are the top things that CEO Joel Nylund has learned over the years as an engineer?\",\n",
    "  \"Summarize the key information here into a bulleted list\"\n",
    ")"
   ]
  },
  {
   "cell_type": "code",
   "execution_count": 47,
   "metadata": {},
   "outputs": [
    {
     "name": "stdout",
     "output_type": "stream",
     "text": [
      "- Solution Street partners with Capital Area Food Bank for charity sponsorship\n",
      "- Capital Area Food Bank hosts events like The Great American Milk Drive and Blue Jeans Ball\n",
      "- Solution Street is collecting nonperishable items for donation\n",
      "- Solution Street is an IT consultancy helping organizations with web applications\n",
      "- Solution Street offers competitive salary, benefits, and a fun working environment\n",
      "- Solution Street supports various charities chosen by company-wide vote\n",
      "- Solution Street is a sponsor of NovaJug\n",
      "- Solution Street offers opportunities for internships in web development\n",
      "- Solution Street celebrated its 15th year in business in 2017\n"
     ]
    }
   ],
   "source": [
    "rag_query(\n",
    "  collection_name, \n",
    "  \"tell me about the Solution Street's cricket charity event\",\n",
    "  \"Summarize the key information here into a bulleted list using only the information I give you. If you do not know, respond with I do not know.\"\n",
    ")\n"
   ]
  },
  {
   "cell_type": "code",
   "execution_count": 48,
   "metadata": {},
   "outputs": [
    {
     "name": "stdout",
     "output_type": "stream",
     "text": [
      "[\n",
      "    {\n",
      "        \"question\": \"What are some key communication skills that are important for successful communication?\",\n",
      "        \"answer\": \"Making others feel comfortable, listening to what they are saying, talking with them, speaking simply and clearly, and discussing important details in person or by phone.\"\n",
      "    },\n",
      "    {\n",
      "        \"question\": \"How can over-communication be effective in a team setting?\",\n",
      "        \"answer\": \"Over-communicating through different channels such as oral delivery, written memos, email memos, and PowerPoints can help emphasize, reiterate, and achieve consistency in communication.\"\n",
      "    },\n",
      "    {\n",
      "        \"question\": \"Why is it important to document findings in communication?\",\n",
      "        \"answer\": \"Documenting findings is important to ensure clarity, understanding, and accountability in communication, and to avoid misunderstandings or misinterpretations.\"\n",
      "    },\n",
      "    {\n",
      "        \"question\": \"What are some common interactions that consultants and others might have on a project?\",\n",
      "        \"answer\": \"Interactions with clients for requirements, defect resolution, project checkup, and financial matters; interactions with other software engineers or engineers in test for code review, defect evaluation, and peer programming; interactions with management or subordinates for goal settings, feedback, and assistance.\"\n",
      "    }\n",
      "]\n"
     ]
    }
   ],
   "source": [
    "rag_query(\n",
    "  collection_name, \n",
    "  \"What are some tips and recommendations for improving client communication?\",\n",
    "  \"Summarize the key information here into question and answer format as JSON with a question property and an answer property\"\n",
    ")"
   ]
  },
  {
   "cell_type": "code",
   "execution_count": 49,
   "metadata": {},
   "outputs": [
    {
     "name": "stdout",
     "output_type": "stream",
     "text": [
      "The book \"Switch: How to Change Things When Change is Hard\" discusses the concept of exhaustion being mistaken for laziness, highlighting the limited amount of self-control or willpower individuals have. The book uses the Rider and Elephant metaphor to explain how to achieve change by directing the rational side (Rider), motivating the emotional side (Elephant), and shaping the environment (Path). Additionally, the challenges of working remotely while traveling are explored, including the need to adjust to different time zones and plan for logistical hurdles. The importance of good planning, finding the right work environment, and managing work hours are emphasized for a successful remote work experience. Furthermore, the potential impact of technology on future activities like buying clothes is discussed, predicting a shift towards virtual reality experiences for shopping. Overall, the importance of understanding personal limitations, effective planning, and adapting to changing environments are key themes in both the book and the challenges of remote work while traveling.\n"
     ]
    }
   ],
   "source": [
    "rag_query(\n",
    "  collection_name, \n",
    "  \"Is the earth flat or round?\",\n",
    "  \"Summarize the key information here into an authorative paragraph\"\n",
    ")"
   ]
  },
  {
   "cell_type": "code",
   "execution_count": 50,
   "metadata": {},
   "outputs": [],
   "source": [
    "# now let's add the flat-earth.txt file to the collection\n",
    "with open(\"./other-files/flat-earth.txt\", mode = \"r\") as file:\n",
    "    chunks_list = list()\n",
    "    blog_text = file.read().replace(\"\\n\", \" \")\n",
    "    chunked_text = chunk_text(blog_text, 150, 25)\n",
    "\n",
    "    for index, chunk in enumerate(chunked_text):\n",
    "        properties = {\n",
    "            \"filename\": \"flat-earth.txt\",\n",
    "            \"chunk\": chunk,\n",
    "            \"chunk_index\": index\n",
    "        }\n",
    "        chunks_list.append(properties)\n",
    "    blog_article_chunks.data.insert_many(chunks_list)"
   ]
  },
  {
   "cell_type": "code",
   "execution_count": 51,
   "metadata": {},
   "outputs": [
    {
     "name": "stdout",
     "output_type": "stream",
     "text": [
      "Charles K. Johnson, president of the International Flat Earth Research Society, firmly believes that the Earth is flat, with the known, inhabited world being circular and flat like a phonograph record. According to Johnson, the North Pole is at the center, with a wall of southern ice at the outer edge that no one has crossed. He argues that the sun and moon are only about 32 miles in diameter and circle above the Earth near the equator, with their rising and setting being tricks of perspective. Johnson's beliefs are grounded in the Bible, and he refutes common beliefs about the Earth's shape, space exploration, and the Shuttle program. He contends that the main purpose of the space program is to perpetuate the myth that the Earth is a globe, and he aims to bring about a declaration that the Earth is flat, making the United States the first flat Earth nation in recorded history.\n"
     ]
    },
    {
     "name": "stderr",
     "output_type": "stream",
     "text": [
      "{\"action\":\"lsm_init_disk_segment_build_bloom_filter_primary\",\"class\":\"BlogArticleChunks\",\"index\":\"blogarticlechunks\",\"level\":\"debug\",\"msg\":\"building bloom filter took 250.466µs\\n\",\"path\":\"/Users/ghodum/.local/share/weaviate/blogarticlechunks/VZb9CMJQDdQO/lsm/objects/segment-1718030772935671000.db\",\"shard\":\"VZb9CMJQDdQO\",\"time\":\"2024-06-10T10:49:13-04:00\",\"took\":250466}\n",
      "{\"action\":\"lsm_init_disk_segment_build_bloom_filter_secondary\",\"class\":\"BlogArticleChunks\",\"index\":\"blogarticlechunks\",\"level\":\"debug\",\"msg\":\"building bloom filter took 324.905µs\\n\",\"path\":\"/Users/ghodum/.local/share/weaviate/blogarticlechunks/VZb9CMJQDdQO/lsm/objects/segment-1718030772935671000.db\",\"secondary_index_position\":0,\"shard\":\"VZb9CMJQDdQO\",\"time\":\"2024-06-10T10:49:13-04:00\",\"took\":324905}\n",
      "{\"action\":\"lsm_memtable_flush_complete\",\"class\":\"BlogArticleChunks\",\"index\":\"blogarticlechunks\",\"level\":\"debug\",\"msg\":\"flush and switch took 4.100085ms\\n\",\"path\":\"/Users/ghodum/.local/share/weaviate/blogarticlechunks/VZb9CMJQDdQO/lsm/objects\",\"shard\":\"VZb9CMJQDdQO\",\"time\":\"2024-06-10T10:49:13-04:00\",\"took\":4100085}\n",
      "{\"action\":\"lsm_init_disk_segment_build_bloom_filter_primary\",\"class\":\"BlogArticleChunks\",\"index\":\"blogarticlechunks\",\"level\":\"debug\",\"msg\":\"building bloom filter took 171.532µs\\n\",\"path\":\"/Users/ghodum/.local/share/weaviate/blogarticlechunks/VZb9CMJQDdQO/lsm/property__id/segment-1718030772955870000.db\",\"shard\":\"VZb9CMJQDdQO\",\"time\":\"2024-06-10T10:49:13-04:00\",\"took\":171532}\n",
      "{\"action\":\"lsm_memtable_flush_complete\",\"class\":\"BlogArticleChunks\",\"index\":\"blogarticlechunks\",\"level\":\"debug\",\"msg\":\"flush and switch took 1.552329ms\\n\",\"path\":\"/Users/ghodum/.local/share/weaviate/blogarticlechunks/VZb9CMJQDdQO/lsm/property__id\",\"shard\":\"VZb9CMJQDdQO\",\"time\":\"2024-06-10T10:49:13-04:00\",\"took\":1552329}\n",
      "{\"action\":\"lsm_init_disk_segment_build_bloom_filter_primary\",\"class\":\"BlogArticleChunks\",\"index\":\"blogarticlechunks\",\"level\":\"debug\",\"msg\":\"building bloom filter took 173.287µs\\n\",\"path\":\"/Users/ghodum/.local/share/weaviate/blogarticlechunks/VZb9CMJQDdQO/lsm/property_chunk_index/segment-1718030772959315000.db\",\"shard\":\"VZb9CMJQDdQO\",\"time\":\"2024-06-10T10:49:13-04:00\",\"took\":173287}\n",
      "{\"action\":\"lsm_memtable_flush_complete\",\"class\":\"BlogArticleChunks\",\"index\":\"blogarticlechunks\",\"level\":\"debug\",\"msg\":\"flush and switch took 1.521698ms\\n\",\"path\":\"/Users/ghodum/.local/share/weaviate/blogarticlechunks/VZb9CMJQDdQO/lsm/property_chunk_index\",\"shard\":\"VZb9CMJQDdQO\",\"time\":\"2024-06-10T10:49:13-04:00\",\"took\":1521698}\n",
      "{\"action\":\"lsm_init_disk_segment_build_bloom_filter_primary\",\"class\":\"BlogArticleChunks\",\"index\":\"blogarticlechunks\",\"level\":\"debug\",\"msg\":\"building bloom filter took 177.591µs\\n\",\"path\":\"/Users/ghodum/.local/share/weaviate/blogarticlechunks/VZb9CMJQDdQO/lsm/property_filename/segment-1718030772961052000.db\",\"shard\":\"VZb9CMJQDdQO\",\"time\":\"2024-06-10T10:49:13-04:00\",\"took\":177591}\n",
      "{\"action\":\"lsm_memtable_flush_complete\",\"class\":\"BlogArticleChunks\",\"index\":\"blogarticlechunks\",\"level\":\"debug\",\"msg\":\"flush and switch took 1.598643ms\\n\",\"path\":\"/Users/ghodum/.local/share/weaviate/blogarticlechunks/VZb9CMJQDdQO/lsm/property_filename\",\"shard\":\"VZb9CMJQDdQO\",\"time\":\"2024-06-10T10:49:13-04:00\",\"took\":1598643}\n",
      "{\"action\":\"lsm_init_disk_segment_build_bloom_filter_primary\",\"class\":\"BlogArticleChunks\",\"index\":\"blogarticlechunks\",\"level\":\"debug\",\"msg\":\"building bloom filter took 512.482µs\\n\",\"path\":\"/Users/ghodum/.local/share/weaviate/blogarticlechunks/VZb9CMJQDdQO/lsm/property_chunk/segment-1718030772963849000.db\",\"shard\":\"VZb9CMJQDdQO\",\"time\":\"2024-06-10T10:49:13-04:00\",\"took\":512482}\n",
      "{\"action\":\"lsm_memtable_flush_complete\",\"class\":\"BlogArticleChunks\",\"index\":\"blogarticlechunks\",\"level\":\"debug\",\"msg\":\"flush and switch took 5.469108ms\\n\",\"path\":\"/Users/ghodum/.local/share/weaviate/blogarticlechunks/VZb9CMJQDdQO/lsm/property_chunk\",\"shard\":\"VZb9CMJQDdQO\",\"time\":\"2024-06-10T10:49:13-04:00\",\"took\":5469108}\n",
      "{\"action\":\"lsm_init_disk_segment_build_bloom_filter_primary\",\"class\":\"BlogArticleChunks\",\"index\":\"blogarticlechunks\",\"level\":\"debug\",\"msg\":\"building bloom filter took 152.136µs\\n\",\"path\":\"/Users/ghodum/.local/share/weaviate/blogarticlechunks/VZb9CMJQDdQO/lsm/property_filename_searchable/segment-1718030772991614000.db\",\"shard\":\"VZb9CMJQDdQO\",\"time\":\"2024-06-10T10:49:13-04:00\",\"took\":152136}\n",
      "{\"action\":\"lsm_memtable_flush_complete\",\"class\":\"BlogArticleChunks\",\"index\":\"blogarticlechunks\",\"level\":\"debug\",\"msg\":\"flush and switch took 1.168407ms\\n\",\"path\":\"/Users/ghodum/.local/share/weaviate/blogarticlechunks/VZb9CMJQDdQO/lsm/property_filename_searchable\",\"shard\":\"VZb9CMJQDdQO\",\"time\":\"2024-06-10T10:49:13-04:00\",\"took\":1168407}\n",
      "{\"action\":\"lsm_init_disk_segment_build_bloom_filter_primary\",\"class\":\"BlogArticleChunks\",\"index\":\"blogarticlechunks\",\"level\":\"debug\",\"msg\":\"building bloom filter took 504.362µs\\n\",\"path\":\"/Users/ghodum/.local/share/weaviate/blogarticlechunks/VZb9CMJQDdQO/lsm/property_chunk_searchable/segment-1718030772995345000.db\",\"shard\":\"VZb9CMJQDdQO\",\"time\":\"2024-06-10T10:49:13-04:00\",\"took\":504362}\n",
      "{\"action\":\"lsm_memtable_flush_complete\",\"class\":\"BlogArticleChunks\",\"index\":\"blogarticlechunks\",\"level\":\"debug\",\"msg\":\"flush and switch took 2.923285ms\\n\",\"path\":\"/Users/ghodum/.local/share/weaviate/blogarticlechunks/VZb9CMJQDdQO/lsm/property_chunk_searchable\",\"shard\":\"VZb9CMJQDdQO\",\"time\":\"2024-06-10T10:49:13-04:00\",\"took\":2923285}\n",
      "{\"action\":\"lsm_precompute_disk_segment_build_bloom_filter_primary\",\"class\":\"BlogArticleChunks\",\"index\":\"blogarticlechunks\",\"level\":\"debug\",\"msg\":\"building bloom filter took 492.027µs\\n\",\"path\":\"/Users/ghodum/.local/share/weaviate/blogarticlechunks/VZb9CMJQDdQO/lsm/objects/segment-1718030772935671000.db\",\"shard\":\"VZb9CMJQDdQO\",\"time\":\"2024-06-10T10:49:14-04:00\",\"took\":492027}\n",
      "{\"action\":\"lsm_precompute_disk_segment_build_bloom_filter_secondary\",\"class\":\"BlogArticleChunks\",\"index\":\"blogarticlechunks\",\"level\":\"debug\",\"msg\":\"building bloom filter took 546.77µs\\n\",\"path\":\"/Users/ghodum/.local/share/weaviate/blogarticlechunks/VZb9CMJQDdQO/lsm/objects/segment-1718030772935671000.db\",\"secondary_index_position\":0,\"shard\":\"VZb9CMJQDdQO\",\"time\":\"2024-06-10T10:49:14-04:00\",\"took\":546770}\n",
      "{\"action\":\"lsm_precompute_disk_segment_build_bloom_filter_primary\",\"class\":\"BlogArticleChunks\",\"index\":\"blogarticlechunks\",\"level\":\"debug\",\"msg\":\"building bloom filter took 515.855µs\\n\",\"path\":\"/Users/ghodum/.local/share/weaviate/blogarticlechunks/VZb9CMJQDdQO/lsm/property__id/segment-1718030772955870000.db\",\"shard\":\"VZb9CMJQDdQO\",\"time\":\"2024-06-10T10:49:14-04:00\",\"took\":515855}\n",
      "{\"action\":\"lsm_precompute_disk_segment_build_bloom_filter_primary\",\"class\":\"BlogArticleChunks\",\"index\":\"blogarticlechunks\",\"level\":\"debug\",\"msg\":\"building bloom filter took 281.654µs\\n\",\"path\":\"/Users/ghodum/.local/share/weaviate/blogarticlechunks/VZb9CMJQDdQO/lsm/property_chunk_index/segment-1718030772959315000.db\",\"shard\":\"VZb9CMJQDdQO\",\"time\":\"2024-06-10T10:49:14-04:00\",\"took\":281654}\n",
      "{\"action\":\"lsm_precompute_disk_segment_build_bloom_filter_primary\",\"class\":\"BlogArticleChunks\",\"index\":\"blogarticlechunks\",\"level\":\"debug\",\"msg\":\"building bloom filter took 304.275µs\\n\",\"path\":\"/Users/ghodum/.local/share/weaviate/blogarticlechunks/VZb9CMJQDdQO/lsm/property_filename/segment-1718030772961052000.db\",\"shard\":\"VZb9CMJQDdQO\",\"time\":\"2024-06-10T10:49:14-04:00\",\"took\":304275}\n",
      "{\"action\":\"lsm_precompute_disk_segment_build_bloom_filter_primary\",\"class\":\"BlogArticleChunks\",\"index\":\"blogarticlechunks\",\"level\":\"debug\",\"msg\":\"building bloom filter took 4.089116ms\\n\",\"path\":\"/Users/ghodum/.local/share/weaviate/blogarticlechunks/VZb9CMJQDdQO/lsm/property_chunk/segment-1718030772963849000.db\",\"shard\":\"VZb9CMJQDdQO\",\"time\":\"2024-06-10T10:49:14-04:00\",\"took\":4089116}\n",
      "{\"action\":\"lsm_precompute_disk_segment_build_bloom_filter_primary\",\"class\":\"BlogArticleChunks\",\"index\":\"blogarticlechunks\",\"level\":\"debug\",\"msg\":\"building bloom filter took 423.713µs\\n\",\"path\":\"/Users/ghodum/.local/share/weaviate/blogarticlechunks/VZb9CMJQDdQO/lsm/property_filename_searchable/segment-1718030772991614000.db\",\"shard\":\"VZb9CMJQDdQO\",\"time\":\"2024-06-10T10:49:14-04:00\",\"took\":423713}\n",
      "{\"action\":\"lsm_precompute_disk_segment_build_bloom_filter_primary\",\"class\":\"BlogArticleChunks\",\"index\":\"blogarticlechunks\",\"level\":\"debug\",\"msg\":\"building bloom filter took 3.958817ms\\n\",\"path\":\"/Users/ghodum/.local/share/weaviate/blogarticlechunks/VZb9CMJQDdQO/lsm/property_chunk_searchable/segment-1718030772995345000.db\",\"shard\":\"VZb9CMJQDdQO\",\"time\":\"2024-06-10T10:49:14-04:00\",\"took\":3958817}\n"
     ]
    }
   ],
   "source": [
    "rag_query(\n",
    "  collection_name, \n",
    "  \"Is the earth flat or round?\",\n",
    "  \"Summarize the key information here into an authorative paragraph\"\n",
    ")"
   ]
  },
  {
   "cell_type": "code",
   "execution_count": 4,
   "metadata": {},
   "outputs": [],
   "source": [
    "# close the client\n",
    "client.close()"
   ]
  },
  {
   "cell_type": "code",
   "execution_count": null,
   "metadata": {},
   "outputs": [],
   "source": [
    "###\n",
    "### FOR RESETTING THE DATA\n",
    "###\n",
    "# delete collection - THIS WILL DELETE THE COLLECTION AND ALL ITS DATA\n",
    "client.collections.delete(collection_name)  # Replace with your collection name"
   ]
  }
 ],
 "metadata": {
  "kernelspec": {
   "display_name": "Python 3",
   "language": "python",
   "name": "python3"
  },
  "language_info": {
   "codemirror_mode": {
    "name": "ipython",
    "version": 3
   },
   "file_extension": ".py",
   "mimetype": "text/x-python",
   "name": "python",
   "nbconvert_exporter": "python",
   "pygments_lexer": "ipython3",
   "version": "3.12.3"
  }
 },
 "nbformat": 4,
 "nbformat_minor": 2
}
