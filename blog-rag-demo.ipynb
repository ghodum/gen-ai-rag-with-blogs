{
 "cells": [
  {
   "cell_type": "code",
   "execution_count": null,
   "metadata": {},
   "outputs": [],
   "source": [
    "# loads the environment variables for this project\n",
    "from dotenv import load_dotenv\n",
    "load_dotenv()"
   ]
  },
  {
   "cell_type": "code",
   "execution_count": null,
   "metadata": {},
   "outputs": [],
   "source": [
    "# install the Weaviate client\n",
    "# pip install -U weaviate-client\n",
    "\n",
    "import weaviate\n",
    "import os\n",
    "\n",
    "client = weaviate.connect_to_embedded(\n",
    "    headers={\n",
    "        \"X-OpenAI-Api-Key\": os.getenv(\"OPENAI_APIKEY\")  # Replace with your API key\n",
    "    }\n",
    ")"
   ]
  },
  {
   "cell_type": "code",
   "execution_count": null,
   "metadata": {},
   "outputs": [],
   "source": [
    "# create a new collection to hold the vectors\n",
    "# each vector will be associated with a chunk of text from the blog article\n",
    "# we are using OpenAI here, but this can be changed to another AI API\n",
    "import weaviate.classes as wvc\n",
    "\n",
    "collection_name = \"BlogArticleChunks\"\n",
    "\n",
    "# If the collection already exists, delete it\n",
    "if client.collections.exists(collection_name): \n",
    "    client.collections.delete(collection_name)\n",
    "\n",
    "blog_article_chunks = client.collections.create(\n",
    "    name = collection_name,\n",
    "    properties = [\n",
    "        wvc.config.Property(\n",
    "            name = \"filename\",\n",
    "            data_type=wvc.config.DataType.TEXT\n",
    "        ),\n",
    "        wvc.config.Property(\n",
    "            name = \"chunk\",\n",
    "            data_type=wvc.config.DataType.TEXT\n",
    "        ),\n",
    "        wvc.config.Property(\n",
    "            name = \"chunk_index\",\n",
    "            data_type=wvc.config.DataType.INT\n",
    "        )\n",
    "    ],\n",
    "    vectorizer_config=wvc.config.Configure.Vectorizer.text2vec_openai(),  # If set to \"none\" you must always provide vectors yourself. Could be any other \"text2vec-*\" also.\n",
    "    generative_config=wvc.config.Configure.Generative.openai(\n",
    "        #model = \"gpt-4-turbo\",\n",
    "        temperature = 0.2, # 0 is deterministic, 1 is random\n",
    "    )  # Ensure the `generative-openai` module is used for generative queries\n",
    ")"
   ]
  },
  {
   "cell_type": "code",
   "execution_count": null,
   "metadata": {},
   "outputs": [],
   "source": [
    "import os, glob, re\n",
    "from typing import List\n",
    "\n",
    "# chunks the text into smaller chunk_size pieces\n",
    "def chunk_text(text: str, chunk_size: int, overlap_size: int) -> List[str]:   \n",
    "    source_text = re.sub(r\"\\s+\", \" \", text)  # Remove multiple whitespaces\n",
    "    text_words = re.split(r\"\\s\", source_text)  # Split text by single whitespace\n",
    "\n",
    "    chunks = []\n",
    "    for i in range(0, len(text_words), chunk_size):  # Iterate through & chunk data\n",
    "        chunk = \" \".join(text_words[max(i - overlap_size, 0): i + chunk_size])  # Join a set of words into a string\n",
    "        chunks.append(chunk)\n",
    "    \n",
    "    return chunks\n",
    "\n",
    "def load_and_process_file(collection_name: str, blog_file: str):\n",
    "    blog_article_chunks = client.collections.get(collection_name)\n",
    "\n",
    "    with open(blog_file, mode = \"r\") as file:\n",
    "        chunks_list = list()\n",
    "        blog_text = file.read().replace(\"\\n\", \" \")\n",
    "        chunked_text = chunk_text(blog_text, 150, 25)\n",
    "\n",
    "        for index, chunk in enumerate(chunked_text):\n",
    "            properties = {\n",
    "                \"filename\": os.path.basename(blog_file),\n",
    "                \"chunk\": chunk,\n",
    "                \"chunk_index\": index\n",
    "            }\n",
    "            chunks_list.append(properties)\n",
    "        blog_article_chunks.data.insert_many(chunks_list)"
   ]
  },
  {
   "cell_type": "code",
   "execution_count": null,
   "metadata": {},
   "outputs": [],
   "source": [
    "# load all the blog files and process them as chunks\n",
    "blog_files = glob.glob(\"./blogs/*.txt\")\n",
    "\n",
    "for blog_file in blog_files:\n",
    "    load_and_process_file(collection_name, blog_file)\n",
    "\n",
    "# print out the total number of chunks in the collection\n",
    "response = blog_article_chunks.aggregate.over_all(total_count=True)\n",
    "print(response.total_count)"
   ]
  },
  {
   "cell_type": "code",
   "execution_count": null,
   "metadata": {},
   "outputs": [],
   "source": [
    "# define the RAG query method\n",
    "def rag_query(collection_name: str, question: str, group_task: str, max_results: int = 10):\n",
    "  chunks = client.collections.get(collection_name)\n",
    "  response = chunks.generate.near_text(\n",
    "      query = question,\n",
    "      limit = max_results,\n",
    "      grouped_task = group_task\n",
    "  )\n",
    "\n",
    "  print(response.generated)"
   ]
  },
  {
   "cell_type": "markdown",
   "metadata": {},
   "source": []
  },
  {
   "cell_type": "code",
   "execution_count": null,
   "metadata": {},
   "outputs": [],
   "source": [
    "rag_query(\n",
    "  collection_name, \n",
    "  \"What is Solution Street?\", \n",
    "  \"Summarize the key information here in bullet points\"\n",
    ")"
   ]
  },
  {
   "cell_type": "code",
   "execution_count": null,
   "metadata": {},
   "outputs": [],
   "source": [
    "rag_query(\n",
    "  collection_name, \n",
    "  \"What is Solution Street?\", \n",
    "  \"Summarize the key information here into question and answer format\"\n",
    ")"
   ]
  },
  {
   "cell_type": "code",
   "execution_count": null,
   "metadata": {},
   "outputs": [],
   "source": [
    "\n",
    "rag_query(\n",
    "  collection_name, \n",
    "  \"What are the top things that CEO Joel Nylund has learned over the years as an engineer?\",\n",
    "  \"Summarize the key information here into a bulleted list\"\n",
    ")"
   ]
  },
  {
   "cell_type": "code",
   "execution_count": null,
   "metadata": {},
   "outputs": [],
   "source": [
    "rag_query(\n",
    "  collection_name, \n",
    "  \"tell me about the Solution Street's cricket charity event\",\n",
    "  \"Summarize the key information here into a bulleted list using only the information I give you. If you do not know, respond with I do not know.\"\n",
    ")\n"
   ]
  },
  {
   "cell_type": "code",
   "execution_count": null,
   "metadata": {},
   "outputs": [],
   "source": [
    "rag_query(\n",
    "  collection_name, \n",
    "  \"What are some tips and recommendations for improving client communication?\",\n",
    "  \"Summarize the key information here into question and answer format as JSON with a question property and an answer property\"\n",
    ")"
   ]
  },
  {
   "cell_type": "code",
   "execution_count": null,
   "metadata": {},
   "outputs": [],
   "source": [
    "rag_query(\n",
    "  collection_name, \n",
    "  \"Is the earth flat or round?\",\n",
    "  \"Summarize the key information here into an authorative paragraph. If the provided context does not contain information about the earth, respond with I do not know.\"\n",
    ")"
   ]
  },
  {
   "cell_type": "code",
   "execution_count": null,
   "metadata": {},
   "outputs": [],
   "source": [
    "# now let's add the flat-earth.txt file to the collection\n",
    "with open(\"./other-files/flat-earth.txt\", mode = \"r\") as file:\n",
    "    chunks_list = list()\n",
    "    blog_text = file.read().replace(\"\\n\", \" \")\n",
    "    chunked_text = chunk_text(blog_text, 150, 25)\n",
    "\n",
    "    for index, chunk in enumerate(chunked_text):\n",
    "        properties = {\n",
    "            \"filename\": \"flat-earth.txt\",\n",
    "            \"chunk\": chunk,\n",
    "            \"chunk_index\": index\n",
    "        }\n",
    "        chunks_list.append(properties)\n",
    "    blog_article_chunks.data.insert_many(chunks_list)"
   ]
  },
  {
   "cell_type": "code",
   "execution_count": null,
   "metadata": {},
   "outputs": [],
   "source": [
    "rag_query(\n",
    "  collection_name, \n",
    "  \"Is the earth flat or round?\",\n",
    "  \"Summarize the key information here into an authorative paragraph. If the provided context does not contain information about the earth, respond with I do not know.\"\n",
    ")"
   ]
  },
  {
   "cell_type": "code",
   "execution_count": null,
   "metadata": {},
   "outputs": [],
   "source": [
    "# close the client\n",
    "client.close()"
   ]
  },
  {
   "cell_type": "code",
   "execution_count": null,
   "metadata": {},
   "outputs": [],
   "source": [
    "###\n",
    "### FOR RESETTING THE DATA\n",
    "###\n",
    "# delete collection - THIS WILL DELETE THE COLLECTION AND ALL ITS DATA\n",
    "client.collections.delete(collection_name)  # Replace with your collection name"
   ]
  }
 ],
 "metadata": {
  "kernelspec": {
   "display_name": "Python 3",
   "language": "python",
   "name": "python3"
  },
  "language_info": {
   "codemirror_mode": {
    "name": "ipython",
    "version": 3
   },
   "file_extension": ".py",
   "mimetype": "text/x-python",
   "name": "python",
   "nbconvert_exporter": "python",
   "pygments_lexer": "ipython3",
   "version": "3.12.3"
  }
 },
 "nbformat": 4,
 "nbformat_minor": 2
}
