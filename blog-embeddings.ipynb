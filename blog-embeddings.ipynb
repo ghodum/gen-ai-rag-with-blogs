{
 "cells": [
  {
   "cell_type": "code",
   "execution_count": null,
   "metadata": {},
   "outputs": [],
   "source": [
    "# loads the environment variables for this project\n",
    "from dotenv import load_dotenv\n",
    "load_dotenv()"
   ]
  },
  {
   "cell_type": "code",
   "execution_count": null,
   "metadata": {},
   "outputs": [],
   "source": [
    "# install the Weaviate client\n",
    "# pip install -U weaviate-client\n",
    "\n",
    "import weaviate\n",
    "import os\n",
    "\n",
    "client = weaviate.connect_to_embedded(\n",
    "    headers = {\n",
    "        \"X-OpenAI-Api-Key\": os.getenv(\"OPENAI_APIKEY\")  # Replace with your API key\n",
    "    }\n",
    ")"
   ]
  },
  {
   "cell_type": "code",
   "execution_count": null,
   "metadata": {},
   "outputs": [],
   "source": [
    "# create a new collection to hold the vectors\n",
    "# we are using OpenAI here, but this can be changed to another AI API\n",
    "import weaviate.classes as wvc\n",
    "\n",
    "collection_name = \"BlogArticles\"\n",
    "\n",
    "# If the collection already exists, delete it\n",
    "if client.collections.exists(collection_name): \n",
    "    client.collections.delete(collection_name)\n",
    "\n",
    "blog_articles = client.collections.create(\n",
    "    name = collection_name,\n",
    "    vectorizer_config = wvc.config.Configure.Vectorizer.text2vec_openai(),  # If set to \"none\" you must always provide vectors yourself. Could be any other \"text2vec-*\" also.\n",
    "    generative_config = wvc.config.Configure.Generative.openai()  # Ensure the `generative-openai` module is used for generative queries\n",
    ")"
   ]
  },
  {
   "cell_type": "code",
   "execution_count": null,
   "metadata": {},
   "outputs": [],
   "source": [
    "# now we load each blog article, create an embedding vector, and store it along with the blog metadata\n",
    "import os\n",
    "import glob\n",
    "\n",
    "blog_articles = list()\n",
    "blog_dir = glob.glob('blogs/*.txt')\n",
    "\n",
    "for blog_file in blog_dir:\n",
    "  blog_filename = os.path.basename(blog_file)\n",
    "  with open(blog_file, mode = 'r') as file:\n",
    "    blog_articles.append({\n",
    "        \"filename\": blog_filename,\n",
    "        \"content\": file.read().replace('\\n', ' ')\n",
    "    })\n",
    "\n",
    "blog_articles_collection = client.collections.get(collection_name)\n",
    "blog_articles_collection.data.insert_many(blog_articles)\n",
    "\n"
   ]
  },
  {
   "cell_type": "markdown",
   "metadata": {},
   "source": []
  },
  {
   "cell_type": "code",
   "execution_count": null,
   "metadata": {},
   "outputs": [],
   "source": [
    "from weaviate.classes.query import MetadataQuery\n",
    "\n",
    "# given a blog article, let's find the top 5 similar articles using the weaviate client\n",
    "\n",
    "for item in blog_articles_collection.iterator():\n",
    "    filename = item.properties['filename']\n",
    "    content = item.properties['content']\n",
    "\n",
    "    response = blog_articles_collection.query.near_text(\n",
    "        query = content,\n",
    "        limit = 6, # we want the top 5 similar articles, but we also get the same article back, so we ask for 6\n",
    "        return_metadata = MetadataQuery(distance = True)\n",
    "    )\n",
    "    \n",
    "    print(f\"Similar articles to {filename}:\")\n",
    "\n",
    "    for object in response.objects:\n",
    "        similar_filename = object.properties['filename']\n",
    "    \n",
    "        # skip the same file\n",
    "        if similar_filename == filename:\n",
    "            continue\n",
    "\n",
    "        distance = object.metadata.distance\n",
    "        print(f\"\\t{similar_filename} (distance: {distance})\")\n",
    "\n",
    "    print(\"\\n\\n\")\n"
   ]
  },
  {
   "cell_type": "code",
   "execution_count": null,
   "metadata": {},
   "outputs": [],
   "source": [
    "# close the client\n",
    "client.close()"
   ]
  },
  {
   "cell_type": "code",
   "execution_count": null,
   "metadata": {},
   "outputs": [],
   "source": [
    "###\n",
    "### FOR RESETTING THE DATA\n",
    "###\n",
    "# delete collection \"BlogArticles\" - THIS WILL DELETE THE COLLECTION AND ALL ITS DATA\n",
    "client.collections.delete(collection_name)  # Replace with your collection name"
   ]
  }
 ],
 "metadata": {
  "kernelspec": {
   "display_name": "Python 3",
   "language": "python",
   "name": "python3"
  },
  "language_info": {
   "codemirror_mode": {
    "name": "ipython",
    "version": 3
   },
   "file_extension": ".py",
   "mimetype": "text/x-python",
   "name": "python",
   "nbconvert_exporter": "python",
   "pygments_lexer": "ipython3",
   "version": "3.12.-1"
  }
 },
 "nbformat": 4,
 "nbformat_minor": 2
}
